{
 "cells": [
  {
   "cell_type": "markdown",
   "metadata": {},
   "source": [
    "# Part 3 Variants of Pooling"
   ]
  },
  {
   "cell_type": "markdown",
   "metadata": {},
   "source": [
    "1) List three different kinds of pooling, and their corresponding module implemented in PyTorch.\n",
    "The three types of pooling are:\n",
    "- Max pooling: implemented in torch.nn.MaxPool1d/MaxPool2d/MaxPool3d\n",
    "- Average pooling : implemented in torch.nn.AvgPool1d/AvgPool2d/AvgPool3d\n",
    "- Power-average pooling: implemented in torch.nn.LPPool2d"
   ]
  },
  {
   "cell_type": "markdown",
   "metadata": {},
   "source": [
    "2) Write down the mathematical forms of these three pooling modules."
   ]
  },
  {
   "cell_type": "markdown",
   "metadata": {},
   "source": [
    "Let C be the number of channels of a pixel, H and W be the height and width of the input image; The kernel size for pooling is (kH,kW); \n",
    "\n",
    "The 2d maximun pooling would return:\n",
    "$$\n",
    "Out(C_j,h,w) = Max_{m=0}^{kH-1} Max_{n=0}^{kW-1} In(C_j,stride[0]*h+m,stride[1]*w+n)\n",
    "$$\n",
    "\n",
    "The 2d average pooling would return:\n",
    "$$\n",
    "Out(C_j,h,w) = \\frac{1}{kH*kW}\\sum \\limits_{m=0}^{kH-1} \\sum \\limits_{n=0}^{kW-1} In(C_j,stride[0]*h+m,stride[1]*w+n)\n",
    "$$\n",
    "\n",
    "The 2d Power average pooling would return:\n",
    "\n",
    "$$\n",
    "Out(C_j,h,w) = (\\sum \\limits_{m=0}^{kH-1} \\sum \\limits_{n=0}^{kW-1} (In(C_j,stride[0]*h+m,stride[1]*w+n))^p)^{\\frac{1}{p}}\n",
    "$$\n",
    "\n",
    "Note that when $p = 1$ and $p = \\infty$, power average pooling is equivalent to average pooling and maximun pooling respectively.\n"
   ]
  },
  {
   "cell_type": "markdown",
   "metadata": {},
   "source": [
    "3) Pick one of the pooling listed and describe the reason for incorporating it into a deep\n",
    "learning system.\n",
    "For image classification we used max-pooling becauses it was experimentally shown to capture more translated invariant features.\n",
    "\n",
    "References\n",
    "\n",
    "http://yann.lecun.com/exdb/publis/pdf/boureau-icml-10.pdf\n",
    "\n",
    "http://ieeexplore.ieee.org/stamp/stamp.jsp?arnumber=7172506\n",
    "\n",
    "http://ais.uni-bonn.de/papers/icann2010_maxpool.pdf"
   ]
  }
 ],
 "metadata": {
  "kernelspec": {
   "display_name": "Python [conda root]",
   "language": "python",
   "name": "conda-root-py"
  },
  "language_info": {
   "codemirror_mode": {
    "name": "ipython",
    "version": 2
   },
   "file_extension": ".py",
   "mimetype": "text/x-python",
   "name": "python",
   "nbconvert_exporter": "python",
   "pygments_lexer": "ipython2",
   "version": "2.7.12"
  }
 },
 "nbformat": 4,
 "nbformat_minor": 1
}
